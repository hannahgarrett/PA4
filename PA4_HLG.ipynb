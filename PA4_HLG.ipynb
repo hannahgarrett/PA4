{
 "cells": [
  {
   "cell_type": "markdown",
   "id": "eac7ac92",
   "metadata": {},
   "source": [
    "### Hannah Garrett\n",
    "#### CS150-01\n",
    "#### Programming Assignment 4"
   ]
  },
  {
   "cell_type": "markdown",
   "id": "b0a99db1",
   "metadata": {},
   "source": [
    "### Part A"
   ]
  },
  {
   "cell_type": "code",
   "execution_count": 132,
   "id": "b06c60b3",
   "metadata": {},
   "outputs": [
    {
     "data": {
      "text/plain": [
       "{'dog': 'perro',\n",
       " 'cat': 'gato',\n",
       " 'star': 'estrella',\n",
       " 'cookie': 'galleta',\n",
       " 'blue': 'azul',\n",
       " 'hello': 'hola',\n",
       " 'goodbye': 'adios',\n",
       " 'yes': 'si',\n",
       " 'love': 'amor',\n",
       " 'red': 'rojo',\n",
       " 'girl': 'chica',\n",
       " 'family': 'familia',\n",
       " 'man': 'hombre',\n",
       " 'woman': 'mujer',\n",
       " 'sun': 'sol',\n",
       " 'moon': 'luna',\n",
       " 'hot': 'caliente',\n",
       " 'snow': 'nieve',\n",
       " 'cold': 'frio',\n",
       " 'friend': 'amigo'}"
      ]
     },
     "execution_count": 132,
     "metadata": {},
     "output_type": "execute_result"
    }
   ],
   "source": [
    "translate={\"dog\" : \"perro\",\n",
    "          \"cat\" : \"gato\",\n",
    "          \"star\" : \"estrella\",\n",
    "          \"cookie\" : \"galleta\",\n",
    "          \"blue\" : \"azul\",\n",
    "           \"hello\": \"hola\",\n",
    "           \"goodbye\": \"adios\",\n",
    "           \"yes\" : \"si\",\n",
    "           \"love\" : \"amor\",\n",
    "           \"red\" : \"rojo\",\n",
    "           \"girl\" : \"chica\",\n",
    "           \"family\" : \"familia\",\n",
    "           \"man\" : \"hombre\",\n",
    "           \"woman\" : \"mujer\", \n",
    "           \"sun\" : \"sol\",\n",
    "           \"moon\" : \"luna\",\n",
    "           \"hot\" : \"caliente\",\n",
    "           \"snow\" : \"nieve\",\n",
    "           \"cold\" : \"frio\",\n",
    "           \"friend\" : \"amigo\"\n",
    "           \n",
    "          }\n",
    "translate"
   ]
  },
  {
   "cell_type": "code",
   "execution_count": 133,
   "id": "69482f4b",
   "metadata": {},
   "outputs": [
    {
     "data": {
      "text/plain": [
       "dict_items([('dog', 'perro'), ('cat', 'gato'), ('star', 'estrella'), ('cookie', 'galleta'), ('blue', 'azul'), ('hello', 'hola'), ('goodbye', 'adios'), ('yes', 'si'), ('love', 'amor'), ('red', 'rojo'), ('girl', 'chica'), ('family', 'familia'), ('man', 'hombre'), ('woman', 'mujer'), ('sun', 'sol'), ('moon', 'luna'), ('hot', 'caliente'), ('snow', 'nieve'), ('cold', 'frio'), ('friend', 'amigo')])"
      ]
     },
     "execution_count": 133,
     "metadata": {},
     "output_type": "execute_result"
    }
   ],
   "source": [
    "translate.items()"
   ]
  },
  {
   "cell_type": "code",
   "execution_count": 137,
   "id": "d97db79c",
   "metadata": {},
   "outputs": [
    {
     "name": "stdout",
     "output_type": "stream",
     "text": [
      "Enter a word to translate from English to Spanish. (enter 0 to quit): dog\n",
      "The spanish word for  dog  is  PERRO\n",
      "Enter a word to translate from English to Spanish. (enter 0 to quit): cat\n",
      "The spanish word for  cat  is  GATO\n",
      "Enter a word to translate from English to Spanish. (enter 0 to quit): love\n",
      "The spanish word for  love  is  AMOR\n",
      "Enter a word to translate from English to Spanish. (enter 0 to quit): 0\n"
     ]
    }
   ],
   "source": [
    "prompt=\"Enter a word to translate from English to Spanish. (enter 0 to quit): \"\n",
    "active = True\n",
    "while active:\n",
    "    word=input(prompt)\n",
    "    if word==\"0\":\n",
    "        break\n",
    "    elif word:\n",
    "        print(\"The spanish word for \", word, \" is \", translate.get(word).upper())\n",
    "    else:\n",
    "        print(\"This word is not in this dictionary\")"
   ]
  },
  {
   "cell_type": "markdown",
   "id": "3553a871",
   "metadata": {},
   "source": [
    "### Part B"
   ]
  },
  {
   "cell_type": "code",
   "execution_count": 146,
   "id": "f7b0cfa8",
   "metadata": {
    "scrolled": true
   },
   "outputs": [
    {
     "data": {
      "text/plain": [
       "{'September 1': 74,\n",
       " 'September 2': 79,\n",
       " 'September 3': 83,\n",
       " 'September 4': 65,\n",
       " 'September 5': 70}"
      ]
     },
     "execution_count": 146,
     "metadata": {},
     "output_type": "execute_result"
    }
   ],
   "source": [
    "weather={\"September 1\" : 74,\n",
    "        \"September 2\" : 79,\n",
    "        \"September 3\" : 83,\n",
    "        \"September 4\" : 65,\n",
    "        \"September 5\" : 70}\n",
    "weather"
   ]
  },
  {
   "cell_type": "code",
   "execution_count": 151,
   "id": "ae166c1c",
   "metadata": {},
   "outputs": [],
   "source": [
    "weather.update({\"September 1\" : (74-32)*5/9,\n",
    "               \"September 2\" : (79-32)*5/9,\n",
    "               \"September 3\" : (83-32)*5/9,\n",
    "               \"September 4\" : (65-32)*5/9,\n",
    "               \"September 5\" : (70-32)*5/9})"
   ]
  },
  {
   "cell_type": "code",
   "execution_count": 152,
   "id": "8af1162a",
   "metadata": {},
   "outputs": [
    {
     "data": {
      "text/plain": [
       "{'September 1': 23.333333333333332,\n",
       " 'September 2': 26.11111111111111,\n",
       " 'September 3': 28.333333333333332,\n",
       " 'September 4': 18.333333333333332,\n",
       " 'September 5': 21.11111111111111}"
      ]
     },
     "execution_count": 152,
     "metadata": {},
     "output_type": "execute_result"
    }
   ],
   "source": [
    "weather"
   ]
  },
  {
   "cell_type": "markdown",
   "id": "371a100f",
   "metadata": {},
   "source": [
    "### Part C"
   ]
  },
  {
   "cell_type": "code",
   "execution_count": 168,
   "id": "cad6970b",
   "metadata": {},
   "outputs": [
    {
     "data": {
      "text/plain": [
       "{1: 1,\n",
       " 2: 2,\n",
       " 3: 3,\n",
       " 4: 4,\n",
       " 5: 5,\n",
       " 6: 6,\n",
       " 7: 7,\n",
       " 8: 8,\n",
       " 9: 9,\n",
       " 10: 10,\n",
       " 11: 11,\n",
       " 12: 12,\n",
       " 13: 13,\n",
       " 14: 14,\n",
       " 15: 15}"
      ]
     },
     "execution_count": 168,
     "metadata": {},
     "output_type": "execute_result"
    }
   ],
   "source": [
    "square={1 : 1,\n",
    "        2 : 2,\n",
    "        3 : 3, \n",
    "        4 : 4, \n",
    "        5 : 5, \n",
    "        6 : 6,\n",
    "        7 : 7,\n",
    "        8 : 8,\n",
    "        9 : 9,\n",
    "        10 : 10,\n",
    "        11 : 11,\n",
    "        12 :12, \n",
    "        13 : 13,\n",
    "        14 : 14,\n",
    "        15 : 15}\n",
    "square"
   ]
  },
  {
   "cell_type": "code",
   "execution_count": 169,
   "id": "2d0261fe",
   "metadata": {},
   "outputs": [
    {
     "name": "stdout",
     "output_type": "stream",
     "text": [
      "{1: 1}\n",
      "{2: 4}\n",
      "{3: 9}\n",
      "{4: 16}\n",
      "{5: 25}\n",
      "{6: 36}\n",
      "{7: 49}\n",
      "{8: 64}\n",
      "{9: 81}\n",
      "{10: 100}\n",
      "{11: 121}\n",
      "{12: 144}\n",
      "{13: 169}\n",
      "{14: 196}\n",
      "{15: 225}\n"
     ]
    }
   ],
   "source": [
    "for x in square:\n",
    "    print({x : x**2})"
   ]
  },
  {
   "cell_type": "code",
   "execution_count": null,
   "id": "f2e23ddf",
   "metadata": {},
   "outputs": [],
   "source": []
  },
  {
   "cell_type": "code",
   "execution_count": null,
   "id": "71eb305d",
   "metadata": {},
   "outputs": [],
   "source": []
  }
 ],
 "metadata": {
  "kernelspec": {
   "display_name": "Python 3 (ipykernel)",
   "language": "python",
   "name": "python3"
  },
  "language_info": {
   "codemirror_mode": {
    "name": "ipython",
    "version": 3
   },
   "file_extension": ".py",
   "mimetype": "text/x-python",
   "name": "python",
   "nbconvert_exporter": "python",
   "pygments_lexer": "ipython3",
   "version": "3.9.12"
  }
 },
 "nbformat": 4,
 "nbformat_minor": 5
}
